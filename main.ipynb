{
 "cells": [
  {
   "cell_type": "code",
   "execution_count": 16,
   "metadata": {},
   "outputs": [],
   "source": [
    "import time\n",
    "import pandas as pd\n",
    "import matplotlib.pyplot as plt\n",
    "import seaborn as sns\n",
    "from sklearn.preprocessing import LabelEncoder, StandardScaler\n",
    "from sklearn.svm import SVC\n",
    "from sklearn.model_selection import train_test_split, GridSearchCV\n",
    "from sklearn.dummy import DummyClassifier\n",
    "from sklearn.tree import DecisionTreeClassifier\n",
    "from sklearn.neighbors import KNeighborsClassifier\n",
    "from sklearn.linear_model import LogisticRegression\n",
    "from sklearn.metrics import (\n",
    "    accuracy_score,\n",
    "    precision_score,\n",
    "    recall_score,\n",
    "    confusion_matrix\n",
    ")"
   ]
  },
  {
   "cell_type": "code",
   "execution_count": 36,
   "metadata": {},
   "outputs": [
    {
     "data": {
      "text/html": [
       "<div>\n",
       "<style scoped>\n",
       "    .dataframe tbody tr th:only-of-type {\n",
       "        vertical-align: middle;\n",
       "    }\n",
       "\n",
       "    .dataframe tbody tr th {\n",
       "        vertical-align: top;\n",
       "    }\n",
       "\n",
       "    .dataframe thead th {\n",
       "        text-align: right;\n",
       "    }\n",
       "</style>\n",
       "<table border=\"1\" class=\"dataframe\">\n",
       "  <thead>\n",
       "    <tr style=\"text-align: right;\">\n",
       "      <th></th>\n",
       "      <th>datereceived</th>\n",
       "      <th>cropyear</th>\n",
       "      <th>quantity</th>\n",
       "      <th>qccount</th>\n",
       "      <th>blockid</th>\n",
       "      <th>organic</th>\n",
       "      <th>commodity</th>\n",
       "      <th>variety</th>\n",
       "      <th>growerfamousid</th>\n",
       "      <th>growerid</th>\n",
       "      <th>...</th>\n",
       "      <th>avg_temp</th>\n",
       "      <th>avg_weight</th>\n",
       "      <th>avg_starch</th>\n",
       "      <th>avg_pressure</th>\n",
       "      <th>avg_split</th>\n",
       "      <th>avg_watercore</th>\n",
       "      <th>avg_frozen</th>\n",
       "      <th>avg_tiacidity</th>\n",
       "      <th>avg_lightexposure</th>\n",
       "      <th>pool</th>\n",
       "    </tr>\n",
       "  </thead>\n",
       "  <tbody>\n",
       "    <tr>\n",
       "      <th>0</th>\n",
       "      <td>2013-08-14 12:06:04.000</td>\n",
       "      <td>2013</td>\n",
       "      <td>6</td>\n",
       "      <td>5.0</td>\n",
       "      <td>14-GA-1</td>\n",
       "      <td>N</td>\n",
       "      <td>Apple</td>\n",
       "      <td>Gala</td>\n",
       "      <td>14</td>\n",
       "      <td>1</td>\n",
       "      <td>...</td>\n",
       "      <td>0.0</td>\n",
       "      <td>205.200000</td>\n",
       "      <td>2.420000</td>\n",
       "      <td>19.350000</td>\n",
       "      <td>0.0</td>\n",
       "      <td>0.0</td>\n",
       "      <td>0.0</td>\n",
       "      <td>0.0</td>\n",
       "      <td>0.0</td>\n",
       "      <td>REG</td>\n",
       "    </tr>\n",
       "    <tr>\n",
       "      <th>1</th>\n",
       "      <td>2013-08-14 15:26:35.000</td>\n",
       "      <td>2013</td>\n",
       "      <td>52</td>\n",
       "      <td>NaN</td>\n",
       "      <td>14-GA-1</td>\n",
       "      <td>N</td>\n",
       "      <td>Apple</td>\n",
       "      <td>Gala</td>\n",
       "      <td>14</td>\n",
       "      <td>1</td>\n",
       "      <td>...</td>\n",
       "      <td>NaN</td>\n",
       "      <td>NaN</td>\n",
       "      <td>NaN</td>\n",
       "      <td>NaN</td>\n",
       "      <td>NaN</td>\n",
       "      <td>NaN</td>\n",
       "      <td>NaN</td>\n",
       "      <td>NaN</td>\n",
       "      <td>NaN</td>\n",
       "      <td>REG</td>\n",
       "    </tr>\n",
       "    <tr>\n",
       "      <th>2</th>\n",
       "      <td>2013-08-14 15:27:09.000</td>\n",
       "      <td>2013</td>\n",
       "      <td>52</td>\n",
       "      <td>NaN</td>\n",
       "      <td>14-GA-1</td>\n",
       "      <td>N</td>\n",
       "      <td>Apple</td>\n",
       "      <td>Gala</td>\n",
       "      <td>14</td>\n",
       "      <td>1</td>\n",
       "      <td>...</td>\n",
       "      <td>NaN</td>\n",
       "      <td>NaN</td>\n",
       "      <td>NaN</td>\n",
       "      <td>NaN</td>\n",
       "      <td>NaN</td>\n",
       "      <td>NaN</td>\n",
       "      <td>NaN</td>\n",
       "      <td>NaN</td>\n",
       "      <td>NaN</td>\n",
       "      <td>REG</td>\n",
       "    </tr>\n",
       "    <tr>\n",
       "      <th>3</th>\n",
       "      <td>2013-08-13 00:00:00.000</td>\n",
       "      <td>2013</td>\n",
       "      <td>52</td>\n",
       "      <td>9.0</td>\n",
       "      <td>14-GA-1</td>\n",
       "      <td>N</td>\n",
       "      <td>Apple</td>\n",
       "      <td>Gala</td>\n",
       "      <td>14</td>\n",
       "      <td>1</td>\n",
       "      <td>...</td>\n",
       "      <td>0.0</td>\n",
       "      <td>197.777777</td>\n",
       "      <td>3.088888</td>\n",
       "      <td>19.388888</td>\n",
       "      <td>0.0</td>\n",
       "      <td>0.0</td>\n",
       "      <td>0.0</td>\n",
       "      <td>0.0</td>\n",
       "      <td>0.0</td>\n",
       "      <td>REG</td>\n",
       "    </tr>\n",
       "    <tr>\n",
       "      <th>4</th>\n",
       "      <td>2013-08-13 00:00:00.000</td>\n",
       "      <td>2013</td>\n",
       "      <td>55</td>\n",
       "      <td>NaN</td>\n",
       "      <td>14-GA-1</td>\n",
       "      <td>N</td>\n",
       "      <td>Apple</td>\n",
       "      <td>Gala</td>\n",
       "      <td>14</td>\n",
       "      <td>1</td>\n",
       "      <td>...</td>\n",
       "      <td>NaN</td>\n",
       "      <td>NaN</td>\n",
       "      <td>NaN</td>\n",
       "      <td>NaN</td>\n",
       "      <td>NaN</td>\n",
       "      <td>NaN</td>\n",
       "      <td>NaN</td>\n",
       "      <td>NaN</td>\n",
       "      <td>NaN</td>\n",
       "      <td>REG</td>\n",
       "    </tr>\n",
       "  </tbody>\n",
       "</table>\n",
       "<p>5 rows × 23 columns</p>\n",
       "</div>"
      ],
      "text/plain": [
       "              datereceived  cropyear  quantity  qccount  blockid organic  \\\n",
       "0  2013-08-14 12:06:04.000      2013         6      5.0  14-GA-1       N   \n",
       "1  2013-08-14 15:26:35.000      2013        52      NaN  14-GA-1       N   \n",
       "2  2013-08-14 15:27:09.000      2013        52      NaN  14-GA-1       N   \n",
       "3  2013-08-13 00:00:00.000      2013        52      9.0  14-GA-1       N   \n",
       "4  2013-08-13 00:00:00.000      2013        55      NaN  14-GA-1       N   \n",
       "\n",
       "  commodity variety growerfamousid  growerid  ... avg_temp  avg_weight  \\\n",
       "0     Apple    Gala             14         1  ...      0.0  205.200000   \n",
       "1     Apple    Gala             14         1  ...      NaN         NaN   \n",
       "2     Apple    Gala             14         1  ...      NaN         NaN   \n",
       "3     Apple    Gala             14         1  ...      0.0  197.777777   \n",
       "4     Apple    Gala             14         1  ...      NaN         NaN   \n",
       "\n",
       "   avg_starch  avg_pressure  avg_split  avg_watercore  avg_frozen  \\\n",
       "0    2.420000     19.350000        0.0            0.0         0.0   \n",
       "1         NaN           NaN        NaN            NaN         NaN   \n",
       "2         NaN           NaN        NaN            NaN         NaN   \n",
       "3    3.088888     19.388888        0.0            0.0         0.0   \n",
       "4         NaN           NaN        NaN            NaN         NaN   \n",
       "\n",
       "   avg_tiacidity  avg_lightexposure  pool  \n",
       "0            0.0                0.0   REG  \n",
       "1            NaN                NaN   REG  \n",
       "2            NaN                NaN   REG  \n",
       "3            0.0                0.0   REG  \n",
       "4            NaN                NaN   REG  \n",
       "\n",
       "[5 rows x 23 columns]"
      ]
     },
     "execution_count": 36,
     "metadata": {},
     "output_type": "execute_result"
    }
   ],
   "source": [
    "# Pull in receiving data\n",
    "df = pd.read_csv('data/grower-pool-scores-v3.csv')\n",
    "df.head()"
   ]
  },
  {
   "cell_type": "markdown",
   "metadata": {},
   "source": [
    "### Clean Up Data"
   ]
  },
  {
   "cell_type": "code",
   "execution_count": 18,
   "metadata": {},
   "outputs": [
    {
     "name": "stdout",
     "output_type": "stream",
     "text": [
      "Column 'qccount' has 7299 null values.\n",
      "Column 'storagetype' has 8520 null values.\n",
      "Column 'avg_size' has 7293 null values.\n",
      "Column 'avg_temp' has 7293 null values.\n",
      "Column 'avg_weight' has 7293 null values.\n",
      "Column 'avg_starch' has 7293 null values.\n",
      "Column 'avg_pressure' has 7293 null values.\n",
      "Column 'avg_split' has 7293 null values.\n",
      "Column 'avg_watercore' has 7293 null values.\n",
      "Column 'avg_frozen' has 7293 null values.\n",
      "Column 'avg_tiacidity' has 7293 null values.\n",
      "Column 'avg_lightexposure' has 7293 null values.\n"
     ]
    }
   ],
   "source": [
    "# Loop through the columns and check for null values\n",
    "for column in df.columns:\n",
    "    null_count = df[column].isnull().sum()\n",
    "    if null_count > 0:\n",
    "        print(f\"Column '{column}' has {null_count} null values.\")"
   ]
  },
  {
   "cell_type": "code",
   "execution_count": 19,
   "metadata": {},
   "outputs": [],
   "source": [
    "# Fill in qccount with average of the column if null\n",
    "df['qccount'] = df['qccount'].fillna(df['qccount'].mean())"
   ]
  },
  {
   "cell_type": "code",
   "execution_count": 20,
   "metadata": {},
   "outputs": [],
   "source": [
    "# Drop storagetype\n",
    "df = df.drop(columns=['storagetype'])"
   ]
  },
  {
   "cell_type": "code",
   "execution_count": 21,
   "metadata": {},
   "outputs": [],
   "source": [
    "# Update avg_size, avg_temp, avg_weight, avg_starch, avg_pressure, avg_split, avg_watercore, avg_frozen, avg_tiacidity, and avg_lightexposure with averages of the same pool\n",
    "df['avg_size'] = df.groupby('pool')['avg_size'].transform(lambda x: x.fillna(x.mean()))\n",
    "df['avg_temp'] = df.groupby('pool')['avg_temp'].transform(lambda x: x.fillna(x.mean()))\n",
    "df['avg_weight'] = df.groupby('pool')['avg_weight'].transform(lambda x: x.fillna(x.mean()))\n",
    "df['avg_starch'] = df.groupby('pool')['avg_starch'].transform(lambda x: x.fillna(x.mean()))\n",
    "df['avg_pressure'] = df.groupby('pool')['avg_pressure'].transform(lambda x: x.fillna(x.mean()))\n",
    "df['avg_split'] = df.groupby('pool')['avg_split'].transform(lambda x: x.fillna(x.mean()))\n",
    "df['avg_watercore'] = df.groupby('pool')['avg_watercore'].transform(lambda x: x.fillna(x.mean()))\n",
    "df['avg_frozen'] = df.groupby('pool')['avg_frozen'].transform(lambda x: x.fillna(x.mean()))\n",
    "df['avg_tiacidity'] = df.groupby('pool')['avg_tiacidity'].transform(lambda x: x.fillna(x.mean()))\n",
    "df['avg_lightexposure'] = df.groupby('pool')['avg_lightexposure'].transform(lambda x: x.fillna(x.mean()))"
   ]
  },
  {
   "cell_type": "code",
   "execution_count": 22,
   "metadata": {},
   "outputs": [],
   "source": [
    "# Update pool scores for normalization\n",
    "# If pool is 13GACL3 assign it to LATE\n",
    "df.loc[df['pool'] == '13GACL3', 'pool'] = 'LATE'\n",
    "df.loc[df['pool'] == '13GALC3', 'pool'] = 'LATE'\n",
    "df.loc[df['pool'] == '13GDCL3', 'pool'] = 'LATE'\n",
    "df.loc[df['pool'] == '17RDOAC1', 'pool'] = 'MID'\n",
    "df.loc[df['pool'] == '19OPLC', 'pool'] = 'MID'\n",
    "df.loc[df['pool'] == 'CE1', 'pool'] = 'EARLY'\n",
    "df.loc[df['pool'] == 'OCE1', 'pool'] = 'EARLY'\n",
    "df.loc[df['pool'] == 'AE2', 'pool'] = 'EARLY'\n",
    "df.loc[df['pool'] == 'OCEA1', 'pool'] = 'EARLY'\n",
    "df.loc[df['pool'] == 'R3', 'pool'] = 'REG'\n",
    "\n",
    "# Drop records with this pool\n",
    "df = df[~df['pool'].isin(['19FJCSTDM', '19OFJCSTDM', 'OCA'])]\n"
   ]
  },
  {
   "cell_type": "code",
   "execution_count": 23,
   "metadata": {},
   "outputs": [
    {
     "name": "stdout",
     "output_type": "stream",
     "text": [
      "pool\n",
      "REG      31.074897\n",
      "LATE     26.067719\n",
      "MID      22.511188\n",
      "EARLY    20.346196\n",
      "Name: proportion, dtype: float64\n"
     ]
    }
   ],
   "source": [
    "# Check the percentages of REG, EARLY, MID, and LATE\n",
    "percentages = df['pool'].value_counts(normalize=True) * 100\n",
    "print(percentages)"
   ]
  },
  {
   "cell_type": "markdown",
   "metadata": {},
   "source": [
    "## Business Objective\n",
    "The purpose of this work is to properly qualify the bins of fruit to either REG, EARLY, MID, OR LATE. This will allow us to minimize the impact of having culls that are related to keeping the fruit in a CA room for too long."
   ]
  },
  {
   "cell_type": "markdown",
   "metadata": {},
   "source": [
    "#### Encode the columns"
   ]
  },
  {
   "cell_type": "code",
   "execution_count": 24,
   "metadata": {},
   "outputs": [],
   "source": [
    "def encode(df):\n",
    "    # Encode the target column 'y'\n",
    "    label_encoder = LabelEncoder()\n",
    "    y = label_encoder.fit_transform(df['pool'])\n",
    "    X = df.drop(columns=['pool'], axis=1)\n",
    "\n",
    "    # Encode all categorical columns\n",
    "    categorical_columns = X.select_dtypes(include=['object']).columns\n",
    "    numerical_columns = X.select_dtypes(include=['number']).columns\n",
    "\n",
    "    # Encode categorical columns\n",
    "    X = pd.get_dummies(X, columns=categorical_columns, drop_first=True)\n",
    "\n",
    "    # Encode numerical columns\n",
    "    scaler = StandardScaler()\n",
    "    X[numerical_columns] = scaler.fit_transform(X[numerical_columns])\n",
    "    return X, y\n",
    "\n",
    "X, y = encode(df)"
   ]
  },
  {
   "cell_type": "code",
   "execution_count": 49,
   "metadata": {},
   "outputs": [],
   "source": [
    "##### Trim down X due to time constraints\n",
    "# Add in all avg columns plus variety columns\n",
    "X_trimmed = X[['cropyear', 'growerid', 'avg_size', 'avg_temp', 'avg_weight', 'avg_starch', 'avg_pressure', 'avg_split', 'avg_watercore', 'avg_frozen', 'avg_tiacidity', 'avg_lightexposure']]\n",
    "\n",
    "# Add in all variety columns\n",
    "variety_columns = [col for col in X.columns if 'variety_' in col]\n",
    "X_trimmed = pd.concat([X_trimmed, X[variety_columns]], axis=1)\n"
   ]
  },
  {
   "cell_type": "markdown",
   "metadata": {},
   "source": [
    "#### Split Test Data"
   ]
  },
  {
   "cell_type": "code",
   "execution_count": 50,
   "metadata": {},
   "outputs": [],
   "source": [
    "X_train, X_test, y_train, y_test = train_test_split(\n",
    "    X_trimmed, y, test_size=0.3, random_state=42\n",
    ")"
   ]
  },
  {
   "cell_type": "markdown",
   "metadata": {},
   "source": [
    "### Set Up Baseline Model"
   ]
  },
  {
   "cell_type": "code",
   "execution_count": 51,
   "metadata": {},
   "outputs": [
    {
     "name": "stdout",
     "output_type": "stream",
     "text": [
      "Baseline Accuracy: 0.3100\n"
     ]
    }
   ],
   "source": [
    "dummy = DummyClassifier(strategy=\"most_frequent\")\n",
    "dummy.fit(X_train, y_train)\n",
    "dummy_pred = dummy.predict(X_test)\n",
    "baseline_acc = accuracy_score(y_test, dummy_pred)\n",
    "\n",
    "print(f\"Baseline Accuracy: {baseline_acc:.4f}\")"
   ]
  },
  {
   "cell_type": "markdown",
   "metadata": {},
   "source": [
    "#### Go through key models"
   ]
  },
  {
   "cell_type": "code",
   "execution_count": 61,
   "metadata": {},
   "outputs": [
    {
     "name": "stdout",
     "output_type": "stream",
     "text": [
      "Training time: 0.6306 seconds\n",
      "Logistic Regression Accuracy: 0.4464\n",
      "Logistic Regression Accuracy (train): 0.4456\n",
      "Precision Score:  0.4293115927875832\n",
      "Recall Score:  0.44643962848297214\n"
     ]
    },
    {
     "name": "stderr",
     "output_type": "stream",
     "text": [
      "/Users/ethan.florygilbertfruit.com/Documents/Repos/Berkely_Capstone/.venv/lib/python3.12/site-packages/sklearn/linear_model/_logistic.py:465: ConvergenceWarning: lbfgs failed to converge (status=1):\n",
      "STOP: TOTAL NO. OF ITERATIONS REACHED LIMIT.\n",
      "\n",
      "Increase the number of iterations (max_iter) or scale the data as shown in:\n",
      "    https://scikit-learn.org/stable/modules/preprocessing.html\n",
      "Please also refer to the documentation for alternative solver options:\n",
      "    https://scikit-learn.org/stable/modules/linear_model.html#logistic-regression\n",
      "  n_iter_i = _check_optimize_result(\n"
     ]
    }
   ],
   "source": [
    "start_time = time.time()\n",
    "lr = LogisticRegression()\n",
    "lr.fit(X_train, y_train)\n",
    "lr_train_time = time.time() - start_time\n",
    "print(f\"Training time: {lr_train_time:.4f} seconds\")\n",
    "\n",
    "lr_pred = lr.predict(X_test)\n",
    "lr_acc_test = accuracy_score(y_test, lr_pred)\n",
    "lr_acc_train = accuracy_score(y_train, lr.predict(X_train))\n",
    "print(f\"Logistic Regression Accuracy: {lr_acc_test:.4f}\")\n",
    "print(f\"Logistic Regression Accuracy (train): {lr_acc_train:.4f}\")\n",
    "\n",
    "lr_precision_score = precision_score(y_test, lr_pred, average='weighted')\n",
    "print(\"Precision Score: \", lr_precision_score)\n",
    "\n",
    "lr_recall_score = recall_score(y_test, lr_pred, average='weighted')\n",
    "print(\"Recall Score: \", lr_recall_score)"
   ]
  },
  {
   "cell_type": "code",
   "execution_count": 53,
   "metadata": {},
   "outputs": [
    {
     "name": "stdout",
     "output_type": "stream",
     "text": [
      "Training time: 0.0091 seconds\n",
      "KNN Accuracy: 0.6433\n",
      "KNN Accuracy (train): 0.7502\n"
     ]
    }
   ],
   "source": [
    "start_time = time.time()\n",
    "knn = KNeighborsClassifier()\n",
    "knn.fit(X_train, y_train)\n",
    "knn_train_time = time.time() - start_time\n",
    "print(f\"Training time: {knn_train_time:.4f} seconds\")\n",
    "\n",
    "knn_pred = knn.predict(X_test)\n",
    "knn_acc_test = accuracy_score(y_test, knn_pred)\n",
    "knn_acc_train = accuracy_score(y_train, knn.predict(X_train))\n",
    "print(f\"KNN Accuracy: {knn_acc_test:.4f}\")\n",
    "print(f\"KNN Accuracy (train): {knn_acc_train:.4f}\")"
   ]
  },
  {
   "cell_type": "code",
   "execution_count": 54,
   "metadata": {},
   "outputs": [
    {
     "name": "stdout",
     "output_type": "stream",
     "text": [
      "Training time: 47.2924 seconds\n",
      "SVC Accuracy: 0.5713\n",
      "SVC Accuracy (train): 0.5731\n"
     ]
    }
   ],
   "source": [
    "start_time = time.time()\n",
    "svc = SVC()\n",
    "svc.fit(X_train, y_train)\n",
    "svc_train_time = time.time() - start_time\n",
    "print(f\"Training time: {svc_train_time:.4f} seconds\")\n",
    "\n",
    "svc_pred = svc.predict(X_test)\n",
    "svc_acc_test = accuracy_score(y_test, svc_pred)\n",
    "svc_acc_train = accuracy_score(y_train, svc.predict(X_train))\n",
    "print(f\"SVC Accuracy: {svc_acc_test:.4f}\")\n",
    "print(f\"SVC Accuracy (train): {svc_acc_train:.4f}\")"
   ]
  },
  {
   "cell_type": "code",
   "execution_count": 55,
   "metadata": {},
   "outputs": [
    {
     "name": "stdout",
     "output_type": "stream",
     "text": [
      "Training time: 0.1962 seconds\n",
      "Decision Tree Accuracy: 0.6481\n",
      "Decision Tree Accuracy (train): 0.9945\n"
     ]
    }
   ],
   "source": [
    "start_time = time.time()\n",
    "dt = DecisionTreeClassifier()\n",
    "dt.fit(X_train, y_train)\n",
    "dt_train_time = time.time() - start_time\n",
    "print(f\"Training time: {dt_train_time:.4f} seconds\")\n",
    "\n",
    "dt_pred = dt.predict(X_test)\n",
    "dt_acc_test = accuracy_score(y_test, dt_pred)\n",
    "dt_acc_train = accuracy_score(y_train, dt.predict(X_train))\n",
    "print(f\"Decision Tree Accuracy: {dt_acc_test:.4f}\")\n",
    "print(f\"Decision Tree Accuracy (train): {dt_acc_train:.4f}\")"
   ]
  },
  {
   "cell_type": "code",
   "execution_count": 56,
   "metadata": {},
   "outputs": [
    {
     "data": {
      "image/png": "[encoded data removed]",
      "text/plain": [
       "<Figure size 1000x600 with 1 Axes>"
      ]
     },
     "metadata": {},
     "output_type": "display_data"
    },
    {
     "data": {
      "text/plain": [
       "<Figure size 640x480 with 0 Axes>"
      ]
     },
     "metadata": {},
     "output_type": "display_data"
    }
   ],
   "source": [
    "results = pd.DataFrame({\n",
    "    \"Model\": [\"Logistic Regression\", \"KNN\", \"Decision Tree\", \"SVC\"],\n",
    "    \"Train Time (s)\": [lr_train_time, knn_train_time, dt_train_time, svc_train_time],\n",
    "    \"Train Accuracy\": [lr_acc_train, knn_acc_train, dt_acc_train, svc_acc_train],\n",
    "    \"Test Accuracy\": [lr_acc_test, knn_acc_test, dt_acc_test, svc_acc_test]\n",
    "})\n",
    "\n",
    "# Create figure and axis\n",
    "fig, ax1 = plt.subplots(figsize=(10, 6))\n",
    "\n",
    "# Plot Accuracy (Train & Test) on left y-axis\n",
    "ax1.set_title(\"Model Performance Comparison\")\n",
    "ax1.set_xlabel(\"Model\")\n",
    "ax1.set_ylabel(\"Accuracy\", color=\"tab:blue\")\n",
    "sns.barplot(data=results, x=\"Model\", y=\"Train Accuracy\", color=\"blue\", alpha=0.6, label=\"Train Accuracy\", ax=ax1)\n",
    "sns.barplot(data=results, x=\"Model\", y=\"Test Accuracy\", color=\"dodgerblue\", alpha=0.6, label=\"Test Accuracy\", ax=ax1)\n",
    "ax1.tick_params(axis=\"y\", labelcolor=\"tab:blue\")\n",
    "\n",
    "# Add threshold line for accuracy at 88.76%\n",
    "ax1.axhline(y=31 / 100, color=\"black\", linestyle=\"--\", linewidth=2, label=\"Threshold (31%)\")\n",
    "\n",
    "# # Create second y-axis for Train Time\n",
    "# ax2 = ax1.twinx()\n",
    "# ax2.set_ylabel(\"Train Time (s)\", color=\"tab:red\")\n",
    "# sns.barplot(data=results, x=\"Model\", y=\"Train Time (s)\", color=\"red\", alpha=0.6, label=\"Train Time\", ax=ax2)\n",
    "# ax2.tick_params(axis=\"y\", labelcolor=\"tab:red\")\n",
    "\n",
    "# Legends\n",
    "ax1.legend(loc=\"upper left\")\n",
    "# ax2.legend(loc=\"upper right\")\n",
    "\n",
    "plt.xticks(rotation=45)\n",
    "plt.tight_layout()\n",
    "plt.show()\n",
    "plt.savefig('./images/initial_model_performance_comparison.png')"
   ]
  },
  {
   "cell_type": "markdown",
   "metadata": {},
   "source": [
    "#### Use enhancing techniques on the models"
   ]
  },
  {
   "cell_type": "code",
   "execution_count": 59,
   "metadata": {},
   "outputs": [
    {
     "name": "stdout",
     "output_type": "stream",
     "text": [
      "{'kernel': 'rbf'}\n",
      "0.5625331724969843\n",
      "Precision Score:  0.5697374091216195\n",
      "Recall Score:  0.5712918660287082\n"
     ]
    }
   ],
   "source": [
    "# Go through the different models of SVC\n",
    "params = { 'kernel': ['linear', 'poly', 'rbf', 'sigmoid']}\n",
    "svc = SVC()\n",
    "grid_search = GridSearchCV(estimator=svc, param_grid=params, cv=5, scoring='accuracy', n_jobs=-1)\n",
    "grid_search.fit(X_train, y_train)\n",
    "\n",
    "print(grid_search.best_params_)\n",
    "print(grid_search.best_score_)\n",
    "svc_precision_score = precision_score(y_test, grid_search.predict(X_test), average='weighted')\n",
    "print(\"Precision Score: \", svc_precision_score)\n",
    "svc_recall_score = recall_score(y_test, grid_search.predict(X_test), average='weighted')\n",
    "print(\"Recall Score: \", svc_recall_score)"
   ]
  },
  {
   "cell_type": "code",
   "execution_count": 57,
   "metadata": {},
   "outputs": [
    {
     "name": "stdout",
     "output_type": "stream",
     "text": [
      "{'max_depth': 20}\n",
      "0.6364776839565742\n",
      "Precision Score:  0.6619784831725202\n",
      "Recall Score:  0.6616943428088939\n"
     ]
    }
   ],
   "source": [
    "params = { 'max_depth': [2, 5, 10, 15, 20]}\n",
    "dt = DecisionTreeClassifier()\n",
    "grid_search = GridSearchCV(estimator=dt, param_grid=params, cv=5, scoring='accuracy', n_jobs=-1)\n",
    "grid_search.fit(X_train, y_train)\n",
    "\n",
    "print(grid_search.best_params_)\n",
    "print(grid_search.best_score_)\n",
    "\n",
    "dt_precision_score = precision_score(y_test, grid_search.predict(X_test), average='weighted')\n",
    "print(\"Precision Score: \", dt_precision_score)\n",
    "dt_recall_score = recall_score(y_test, grid_search.predict(X_test), average='weighted')\n",
    "print(\"Recall Score: \", dt_recall_score)"
   ]
  },
  {
   "cell_type": "code",
   "execution_count": 58,
   "metadata": {},
   "outputs": [
    {
     "name": "stdout",
     "output_type": "stream",
     "text": [
      "{'n_neighbors': 5}\n",
      "0.629601930036188\n",
      "Precision Score:  0.6506236688095313\n",
      "Recall Score:  0.643343653250774\n"
     ]
    }
   ],
   "source": [
    "params = {'n_neighbors': [2, 5, 10, 12, 15]}\n",
    "knn = KNeighborsClassifier()\n",
    "grid_search = GridSearchCV(estimator=knn, param_grid=params, cv=5, scoring='accuracy', n_jobs=-1)\n",
    "grid_search.fit(X_train, y_train)\n",
    "\n",
    "print(grid_search.best_params_)\n",
    "print(grid_search.best_score_)\n",
    "\n",
    "knn_precision_score = precision_score(y_test, grid_search.predict(X_test), average='weighted')\n",
    "print(\"Precision Score: \", knn_precision_score)\n",
    "knn_recall_score = recall_score(y_test, grid_search.predict(X_test), average='weighted')\n",
    "print(\"Recall Score: \", knn_recall_score)"
   ]
  },
  {
   "cell_type": "code",
   "execution_count": 62,
   "metadata": {},
   "outputs": [
    {
     "data": {
      "image/png": "[encoded data removed]",
      "text/plain": [
       "<Figure size 1000x600 with 1 Axes>"
      ]
     },
     "metadata": {},
     "output_type": "display_data"
    },
    {
     "data": {
      "text/plain": [
       "<Figure size 640x480 with 0 Axes>"
      ]
     },
     "metadata": {},
     "output_type": "display_data"
    }
   ],
   "source": [
    "stacked_data = pd.DataFrame({\n",
    "    \"Model\": [\"Logistic Regression\", \"KNN\", \"Decision Tree\", \"SVC\"],\n",
    "    \"Accuracy\": [lr_acc_test, knn_acc_test, dt_acc_test, svc_acc_test],\n",
    "    \"Precision\": [lr_precision_score, knn_precision_score, dt_precision_score, svc_precision_score],\n",
    "    \"Recall\": [lr_recall_score, knn_recall_score, dt_recall_score, svc_recall_score]\n",
    "})\n",
    "\n",
    "# Melt the data for easier plotting\n",
    "stacked_data_melted = stacked_data.melt(id_vars=\"Model\", var_name=\"Metric\", value_name=\"Score\")\n",
    "\n",
    "# Create the stacked bar chart\n",
    "plt.figure(figsize=(10, 6))\n",
    "sns.barplot(data=stacked_data_melted, x=\"Model\", y=\"Score\", hue=\"Metric\", palette=\"viridis\")\n",
    "\n",
    "# Add labels and title\n",
    "plt.title(\"Model Performance: Accuracy, Precision, and Recall\")\n",
    "plt.ylabel(\"Score\")\n",
    "plt.xlabel(\"Model\")\n",
    "plt.ylim(0, 1)\n",
    "plt.legend(title=\"Metric\", loc=\"upper right\")\n",
    "plt.tight_layout()\n",
    "\n",
    "# Show the plot\n",
    "plt.show()\n",
    "plt.savefig('./images/results.png')"
   ]
  }
 ],
 "metadata": {
  "kernelspec": {
   "display_name": ".venv",
   "language": "python",
   "name": "python3"
  },
  "language_info": {
   "codemirror_mode": {
    "name": "ipython",
    "version": 3
   },
   "file_extension": ".py",
   "mimetype": "text/x-python",
   "name": "python",
   "nbconvert_exporter": "python",
   "pygments_lexer": "ipython3",
   "version": "3.12.0"
  }
 },
 "nbformat": 4,
 "nbformat_minor": 2
}
